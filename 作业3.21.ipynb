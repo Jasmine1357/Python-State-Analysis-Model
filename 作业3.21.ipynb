{
 "cells": [
  {
   "cell_type": "code",
   "execution_count": 9,
   "id": "4046e199",
   "metadata": {},
   "outputs": [
    {
     "name": "stdout",
     "output_type": "stream",
     "text": [
      "('苹果', '香蕉', '柚子')\n",
      "('火龙果', '榴莲')\n",
      "('番茄', '土豆', '花菜')\n",
      "('苹果', '香蕉', '柚子', '火龙果', '榴莲', '番茄', '土豆', '花菜')\n",
      "8\n",
      "蔬菜种类有 8 种\n"
     ]
    }
   ],
   "source": [
    "fruits1=('苹果','香蕉','柚子')\n",
    "fruits2=('火龙果','榴莲')\n",
    "vegetables1=('番茄','土豆','花菜')\n",
    "print(fruits1)\n",
    "print(fruits2)\n",
    "print(vegetables1)\n",
    "fruits_vegetables = (fruits1 + fruits2 + vegetables1)\n",
    "print(fruits_vegetables )\n",
    "print(len(fruits_vegetables))\n",
    "a = len(fruits1)+len(fruits2)+len(vegetables1)\n",
    "print(\"蔬菜种类有\",a,\"种\")"
   ]
  },
  {
   "cell_type": "code",
   "execution_count": 10,
   "id": "e913c837",
   "metadata": {},
   "outputs": [
    {
     "name": "stdout",
     "output_type": "stream",
     "text": [
      "('苹果', '香蕉', '柚子', '火龙果', '榴莲', '番茄', '土豆', '花菜', '香菇', '橙汁')\n",
      "['香蕉', '柚子', '火龙果', '榴莲']\n",
      "['苹果', '香蕉', '柚子']\n",
      "['土豆', '花菜', '香菇']\n"
     ]
    }
   ],
   "source": [
    "food_tuple =fruits_vegetables + (\"香菇\",) + (\"橙汁\",)\n",
    "print(food_tuple)\n",
    "food_tuple = list(food_tuple)\n",
    "print(food_tuple[1:5])\n",
    "print(food_tuple[0:3])\n",
    "print(food_tuple[6:9])\n",
    "del food_tuple"
   ]
  },
  {
   "cell_type": "code",
   "execution_count": 11,
   "id": "aab9c074",
   "metadata": {},
   "outputs": [
    {
     "name": "stdout",
     "output_type": "stream",
     "text": [
      "False\n",
      "True\n"
     ]
    }
   ],
   "source": [
    "asian_countries = ('India','China','Singapore','Thailand','Indonesia')\n",
    "print('Finland' in asian_countries)\n",
    "print( 'India' in asian_countries)"
   ]
  },
  {
   "cell_type": "code",
   "execution_count": null,
   "id": "5ad59fd3",
   "metadata": {},
   "outputs": [],
   "source": []
  }
 ],
 "metadata": {
  "kernelspec": {
   "display_name": "Python 3",
   "language": "python",
   "name": "python3"
  },
  "language_info": {
   "codemirror_mode": {
    "name": "ipython",
    "version": 3
   },
   "file_extension": ".py",
   "mimetype": "text/x-python",
   "name": "python",
   "nbconvert_exporter": "python",
   "pygments_lexer": "ipython3",
   "version": "3.8.8"
  }
 },
 "nbformat": 4,
 "nbformat_minor": 5
}
