{
 "cells": [
  {
   "cell_type": "code",
   "execution_count": 7,
   "id": "73b61699",
   "metadata": {},
   "outputs": [
    {
     "name": "stdout",
     "output_type": "stream",
     "text": [
      "7\n",
      "{'Apple', 'Guava', 'Pear', 'Banana', 'Mango', 'Orange', 'Kiwi', 'Fig'}\n",
      "{'Apple', 'Guava', 'Pear', 'pineapple', 'Banana', 'Mango', 'Orange', 'peach', 'Kiwi', 'Fig'}\n",
      "{'Apple', 'Guava', 'Pear', 'pineapple', 'Banana', 'Mango', 'Orange', 'peach', 'Fig'}\n",
      "remove an element not present in my_set you will get an error but discard not\n"
     ]
    }
   ],
   "source": [
    "mix_fruits = {'Guava', 'Pear', 'Mango', 'Apple', 'Fig', 'Orange', 'Banana'}\n",
    "len(mix_fruits)\n",
    "print(len(mix_fruits))\n",
    "mix_fruits.add(\"Kiwi\")\n",
    "print(mix_fruits)\n",
    "mix_fruits.update({\"peach\"},{\"pineapple\"})\n",
    "print(mix_fruits)\n",
    "mix_fruits.discard(\"Kiwi\")\n",
    "print(mix_fruits)\n",
    "print(\"remove an element not present in my_set you will get an error but discard not\")"
   ]
  },
  {
   "cell_type": "code",
   "execution_count": 21,
   "id": "6638c33a",
   "metadata": {},
   "outputs": [
    {
     "name": "stdout",
     "output_type": "stream",
     "text": [
      "{19, 20, 22, 24, 25, 26, 27, 28}\n",
      "{19, 20, 22, 24, 25, 26}\n"
     ]
    }
   ],
   "source": [
    "A = {19, 22, 24, 20, 25, 26}\n",
    "B = {19, 22, 20, 25, 26, 24, 28, 27}\n",
    "print(A | B)\n",
    "print(A & B)"
   ]
  },
  {
   "cell_type": "code",
   "execution_count": 27,
   "id": "84f987f0",
   "metadata": {},
   "outputs": [
    {
     "name": "stdout",
     "output_type": "stream",
     "text": [
      "False\n",
      "frozenset({19, 20, 22, 24, 25, 26, 27, 28})\n",
      "frozenset({19, 20, 22, 24, 25, 26})\n",
      "frozenset({27, 28})\n"
     ]
    }
   ],
   "source": [
    "A = frozenset([19, 22, 24, 20, 25, 26])\n",
    "B = frozenset([19, 22, 20, 25, 26, 24, 28, 27])\n",
    "print(A.isdisjoint(B))\n",
    "print(A.union(B))\n",
    "print(A.intersection(B))\n",
    "print(A.symmetric_difference(B))\n",
    "del A\n",
    "del B"
   ]
  },
  {
   "cell_type": "code",
   "execution_count": 34,
   "id": "378c8fa4",
   "metadata": {},
   "outputs": [
    {
     "name": "stdout",
     "output_type": "stream",
     "text": [
      "{19, 22, 24, 25, 26}\n"
     ]
    }
   ],
   "source": [
    "num ={22, 19, 24, 25, 26, 24, 25, 24}\n",
    "print(num)"
   ]
  },
  {
   "cell_type": "code",
   "execution_count": 40,
   "id": "d72334c6",
   "metadata": {},
   "outputs": [
    {
     "name": "stdout",
     "output_type": "stream",
     "text": [
      "No Python documentation found for 'I am a researcher cum teacher and I love to inspire and teach people'.\n",
      "Use help() to get the interactive help utility.\n",
      "Use help(str) for help on the str class.\n",
      "\n"
     ]
    }
   ],
   "source": [
    "help(str)"
   ]
  },
  {
   "cell_type": "code",
   "execution_count": 45,
   "id": "4b81223b",
   "metadata": {},
   "outputs": [
    {
     "name": "stdout",
     "output_type": "stream",
     "text": [
      "['I', 'am', 'a', 'researcher', 'cum', 'teacher', 'and', 'I', 'love', 'to', 'inspire', 'and', 'teach', 'people']\n"
     ]
    }
   ],
   "source": [
    "str=(\"I am a researcher cum teacher and I love to inspire and teach people\")\n",
    "print(str.split())"
   ]
  },
  {
   "cell_type": "code",
   "execution_count": null,
   "id": "1347b170",
   "metadata": {},
   "outputs": [],
   "source": []
  },
  {
   "cell_type": "code",
   "execution_count": null,
   "id": "f006f2c2",
   "metadata": {},
   "outputs": [],
   "source": []
  },
  {
   "cell_type": "code",
   "execution_count": null,
   "id": "c8eee043",
   "metadata": {},
   "outputs": [],
   "source": []
  }
 ],
 "metadata": {
  "kernelspec": {
   "display_name": "Python 3",
   "language": "python",
   "name": "python3"
  },
  "language_info": {
   "codemirror_mode": {
    "name": "ipython",
    "version": 3
   },
   "file_extension": ".py",
   "mimetype": "text/x-python",
   "name": "python",
   "nbconvert_exporter": "python",
   "pygments_lexer": "ipython3",
   "version": "3.8.8"
  }
 },
 "nbformat": 4,
 "nbformat_minor": 5
}
