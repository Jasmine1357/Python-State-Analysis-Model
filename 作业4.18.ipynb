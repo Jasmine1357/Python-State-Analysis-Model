{
 "cells": [
  {
   "cell_type": "code",
   "execution_count": 6,
   "id": "9fcc4dc6",
   "metadata": {},
   "outputs": [
    {
     "name": "stdout",
     "output_type": "stream",
     "text": [
      "[[1 2]\n",
      " [4 5]\n",
      " [7 8]]\n"
     ]
    }
   ],
   "source": [
    "import numpy as np\n",
    "a = np.array([[1,2],[4,5],[7,8]])\n",
    "print(a)"
   ]
  },
  {
   "cell_type": "code",
   "execution_count": 9,
   "id": "f666c0f3",
   "metadata": {},
   "outputs": [
    {
     "data": {
      "text/plain": [
       "array([[1, 2],\n",
       "       [4, 5],\n",
       "       [7, 8]])"
      ]
     },
     "execution_count": 9,
     "metadata": {},
     "output_type": "execute_result"
    }
   ],
   "source": [
    "my_matrix = [[1,2],[4,5],[7,8]]\n",
    "my_matrix\n",
    "np.array(my_matrix)"
   ]
  },
  {
   "cell_type": "code",
   "execution_count": 21,
   "id": "54ae7aea",
   "metadata": {},
   "outputs": [
    {
     "name": "stdout",
     "output_type": "stream",
     "text": [
      "[[0. 0. 0. 0. 0. 0.]\n",
      " [0. 1. 9. 9. 9. 0.]\n",
      " [0. 1. 9. 6. 9. 0.]\n",
      " [0. 1. 9. 9. 9. 0.]\n",
      " [1. 1. 1. 1. 1. 1.]]\n"
     ]
    }
   ],
   "source": [
    "a = np.zeros((5,6))\n",
    "b=np.ones((1,6))\n",
    "c=np.ones((3,3))\n",
    "c=c*9\n",
    "c[1,1]=6\n",
    "a[1:4,2:5]=c\n",
    "a[1:5,1]=1\n",
    "a[4:]=1\n",
    "print(a)"
   ]
  },
  {
   "cell_type": "code",
   "execution_count": 22,
   "id": "e3c7e2aa",
   "metadata": {},
   "outputs": [
    {
     "ename": "ValueError",
     "evalue": "could not broadcast input array from shape (3,2) into shape (0,0)",
     "output_type": "error",
     "traceback": [
      "\u001b[1;31m---------------------------------------------------------------------------\u001b[0m",
      "\u001b[1;31mValueError\u001b[0m                                Traceback (most recent call last)",
      "\u001b[1;32m<ipython-input-22-74bb4cbf4601>\u001b[0m in \u001b[0;36m<module>\u001b[1;34m\u001b[0m\n\u001b[1;32m----> 1\u001b[1;33m \u001b[0mb\u001b[0m\u001b[1;33m[\u001b[0m\u001b[1;36m1\u001b[0m\u001b[1;33m:\u001b[0m\u001b[1;36m0\u001b[0m\u001b[1;33m,\u001b[0m\u001b[1;36m1\u001b[0m\u001b[1;33m:\u001b[0m\u001b[1;36m0\u001b[0m\u001b[1;33m:\u001b[0m\u001b[1;33m]\u001b[0m\u001b[1;33m=\u001b[0m\u001b[1;33m[\u001b[0m\u001b[1;33m[\u001b[0m\u001b[1;36m4\u001b[0m\u001b[1;33m,\u001b[0m\u001b[1;36m4\u001b[0m\u001b[1;33m]\u001b[0m\u001b[1;33m,\u001b[0m\u001b[1;33m[\u001b[0m\u001b[1;36m6\u001b[0m\u001b[1;33m,\u001b[0m\u001b[1;36m6\u001b[0m\u001b[1;33m]\u001b[0m\u001b[1;33m,\u001b[0m\u001b[1;33m[\u001b[0m\u001b[1;36m11\u001b[0m\u001b[1;33m,\u001b[0m\u001b[1;36m11\u001b[0m\u001b[1;33m]\u001b[0m\u001b[1;33m]\u001b[0m\u001b[1;33m\u001b[0m\u001b[1;33m\u001b[0m\u001b[0m\n\u001b[0m",
      "\u001b[1;31mValueError\u001b[0m: could not broadcast input array from shape (3,2) into shape (0,0)"
     ]
    }
   ],
   "source": [
    "b[1:0,1:0:]=[[4,4],[6,6],[11,11]]"
   ]
  },
  {
   "cell_type": "code",
   "execution_count": 23,
   "id": "e38625a0",
   "metadata": {},
   "outputs": [
    {
     "name": "stdout",
     "output_type": "stream",
     "text": [
      "[[ -6  -5]\n",
      " [  5  -2]\n",
      " [-14 -44]]\n"
     ]
    }
   ],
   "source": [
    "a1 = np.array([[9,11],[1,7],[15,60]]) #2D\n",
    "a2 = np.array([[3,6],[6,5],[1,16]]) #2D\n",
    "a3 = np.array([3,6,9]) #1D\n",
    "\n",
    "# substract array a1 from a2 with axis=1\n",
    "print(a2-a1) # axis = 0\n",
    "\n",
    "# dot multiplication of: (a1 dot a2) dot a3"
   ]
  },
  {
   "cell_type": "code",
   "execution_count": 26,
   "id": "6de11d8d",
   "metadata": {},
   "outputs": [
    {
     "name": "stdout",
     "output_type": "stream",
     "text": [
      "[-11   3 -58]\n"
     ]
    }
   ],
   "source": [
    "print(np.sum(a2-a1,axis=1))"
   ]
  },
  {
   "cell_type": "code",
   "execution_count": 27,
   "id": "b128d24e",
   "metadata": {},
   "outputs": [
    {
     "name": "stdout",
     "output_type": "stream",
     "text": [
      "[-15 -51]\n"
     ]
    }
   ],
   "source": [
    "print(np.sum(a2-a1,axis=0))"
   ]
  },
  {
   "cell_type": "code",
   "execution_count": 1,
   "id": "fb9c024e",
   "metadata": {},
   "outputs": [
    {
     "name": "stdout",
     "output_type": "stream",
     "text": [
      "dI5ecS\n"
     ]
    }
   ],
   "source": [
    "import random\n",
    "import string\n",
    "def random_user_id():\n",
    "    return ''.join(random.sample(string.ascii_letters + string.digits, 6))\n",
    "print(random_user_id())"
   ]
  },
  {
   "cell_type": "code",
   "execution_count": 3,
   "id": "95451410",
   "metadata": {},
   "outputs": [
    {
     "name": "stdout",
     "output_type": "stream",
     "text": [
      "pls enter how many ID u want5\n",
      "pls enter how many letters u want in a single ID8\n",
      "Fo1iueWf\n",
      "jTqDoI9S\n",
      "K0zt9eGa\n",
      "7sTXZewN\n",
      "UwBTexc1\n"
     ]
    }
   ],
   "source": [
    "a=int(input(\"pls enter how many ID u want\"))\n",
    "b=int(input(\"pls enter how many letters u want in a single ID\"))\n",
    "def user_id_gen_by_user():\n",
    "    c=[random.sample(string.ascii_letters + string.digits, b) for i in range(a)]\n",
    "    for l in c:\n",
    "        print(''.join(l))\n",
    "user_id_gen_by_user()"
   ]
  },
  {
   "cell_type": "code",
   "execution_count": 7,
   "id": "19564f1c",
   "metadata": {},
   "outputs": [
    {
     "name": "stdout",
     "output_type": "stream",
     "text": [
      "[41, 3, 126]\n"
     ]
    }
   ],
   "source": [
    "def rgb_color_gen():\n",
    "    return [random.randint(0,255),random.randint(0,255),random.randint(0,255)]\n",
    "print(rgb_color_gen())"
   ]
  },
  {
   "cell_type": "code",
   "execution_count": 10,
   "id": "200d58ae",
   "metadata": {},
   "outputs": [
    {
     "name": "stdout",
     "output_type": "stream",
     "text": [
      "#ab7f8c\n"
     ]
    }
   ],
   "source": [
    "def list_of_hexa_colors():\n",
    "    letter=[\"1\",\"2\",\"3\",\"4\",\"5\",\"6\",\"7\",\"8\",\"9\",\"0\",\"a\",'b','c','d','e','f']\n",
    "    hex=\"#\"+\"\".join(random.sample(letter,6))\n",
    "    return hex\n",
    "print(list_of_hexa_colors())"
   ]
  },
  {
   "cell_type": "code",
   "execution_count": 14,
   "id": "aee452ed",
   "metadata": {},
   "outputs": [
    {
     "name": "stdout",
     "output_type": "stream",
     "text": [
      "(29, 168, 173)\n"
     ]
    }
   ],
   "source": [
    "def list_of_rgb_colors():\n",
    "    return(random.randint(0,255),random.randint(0,255),random.randint(0,255))\n",
    "print(list_of_rgb_colors())"
   ]
  },
  {
   "cell_type": "code",
   "execution_count": 19,
   "id": "564529c5",
   "metadata": {},
   "outputs": [
    {
     "name": "stdout",
     "output_type": "stream",
     "text": [
      "['#3d7840', '#8d27ca', '#962c4f']\n",
      "['#49cb8d']\n",
      "[(123, 242, 88)]\n",
      "[(57, 36, 107), (52, 65, 252), (77, 124, 19)]\n"
     ]
    }
   ],
   "source": [
    "def generate_colors(input,times):\n",
    "    list=[]\n",
    "    if input == 'hexa':\n",
    "        while times != 0:\n",
    "            list.append(list_of_hexa_colors())\n",
    "            times-=1\n",
    "        return list\n",
    "    elif input =='rgb':\n",
    "        while times != 0:\n",
    "            list.append(list_of_rgb_colors())\n",
    "            times -= 1\n",
    "        return list\n",
    "    else:\n",
    "        print(\"error\")\n",
    "print(generate_colors('hexa',3))\n",
    "print(generate_colors('hexa',1))\n",
    "print(generate_colors('rgb',1))\n",
    "print(generate_colors('rgb',3))"
   ]
  },
  {
   "cell_type": "code",
   "execution_count": 22,
   "id": "92b40ff5",
   "metadata": {},
   "outputs": [
    {
     "name": "stdout",
     "output_type": "stream",
     "text": [
      "['1', '6', '2', '9', '5', '4']\n"
     ]
    }
   ],
   "source": [
    "def shuffle_list(seq) :\n",
    "    return random.shuffle(seq)\n",
    "\n",
    "def func():\n",
    "    num = [\"1\", \"2\", \"3\", \"4\", \"5\", \"6\", \"7\", \"8\", \"9\", \"0\"]\n",
    "    return random.sample(num,6)\n",
    "print(func())"
   ]
  },
  {
   "cell_type": "code",
   "execution_count": null,
   "id": "c5952952",
   "metadata": {},
   "outputs": [],
   "source": []
  }
 ],
 "metadata": {
  "kernelspec": {
   "display_name": "Python 3",
   "language": "python",
   "name": "python3"
  },
  "language_info": {
   "codemirror_mode": {
    "name": "ipython",
    "version": 3
   },
   "file_extension": ".py",
   "mimetype": "text/x-python",
   "name": "python",
   "nbconvert_exporter": "python",
   "pygments_lexer": "ipython3",
   "version": "3.8.8"
  }
 },
 "nbformat": 4,
 "nbformat_minor": 5
}
